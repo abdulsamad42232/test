{
  "cells": [
    {
      "cell_type": "code",
      "source": [
        "#Q1) Python program to print all odd numbers in a list.\n",
        "x=[1,2,3,4,5,6,7,8,9,10]\n",
        "x=x[::2]\n",
        "print(x)"
      ],
      "metadata": {
        "colab": {
          "base_uri": "https://localhost:8080/"
        },
        "id": "tPk9Zak3DS1O",
        "outputId": "ba748246-a4f7-4495-f144-7fb866d890e8"
      },
      "execution_count": 11,
      "outputs": [
        {
          "output_type": "stream",
          "name": "stdout",
          "text": [
            "[1, 3, 5, 7, 9]\n"
          ]
        }
      ]
    },
    {
      "cell_type": "code",
      "source": [
        "#Q2: sum of list\n",
        "x=[1,2,3,4,5,6,7,8,9,10]\n",
        "y=sum(x)\n",
        "print(y)"
      ],
      "metadata": {
        "id": "9TKHSo844jlP",
        "outputId": "daa466c0-1d0b-408d-d2fe-18e32b632f76",
        "colab": {
          "base_uri": "https://localhost:8080/"
        }
      },
      "execution_count": null,
      "outputs": [
        {
          "output_type": "stream",
          "name": "stdout",
          "text": [
            "55\n"
          ]
        }
      ]
    },
    {
      "cell_type": "code",
      "source": [
        "#Q3:(a)Python program to reverse a list in two ways.\n",
        "x=[1,2,3,4,5,6,7,8,9,10]\n",
        "x.reverse()\n",
        "print(x)\n"
      ],
      "metadata": {
        "id": "PRg8rXzf5p6u",
        "outputId": "cf0d0fc5-6f33-402e-eb5d-8f8bdf14f301",
        "colab": {
          "base_uri": "https://localhost:8080/"
        }
      },
      "execution_count": null,
      "outputs": [
        {
          "output_type": "stream",
          "name": "stdout",
          "text": [
            "[10, 9, 8, 7, 6, 5, 4, 3, 2, 1]\n"
          ]
        }
      ]
    },
    {
      "cell_type": "code",
      "source": [
        "#Q3:(b)Python program to reverse a list in two ways.\n",
        "x=[1,2,3,4,5,6,7,8,9,10]\n",
        "x=x[::-1]\n",
        "print(x)"
      ],
      "metadata": {
        "id": "PMb31YM26Frm",
        "outputId": "dbc923ff-2687-4653-e888-5c81fb180855",
        "colab": {
          "base_uri": "https://localhost:8080/"
        }
      },
      "execution_count": 7,
      "outputs": [
        {
          "output_type": "stream",
          "name": "stdout",
          "text": [
            "[10, 9, 8, 7, 6, 5, 4, 3, 2, 1]\n"
          ]
        }
      ]
    },
    {
      "cell_type": "code",
      "source": [
        "#Q4) Python program to find the top two maximum numbers in a list.\n",
        "numbers = [10, 5, 8, 12, 3, 15, 6, 20]\n",
        "numbers.sort()\n",
        "a=numbers[-1],numbers[-2]\n",
        "print(a)\n"
      ],
      "metadata": {
        "colab": {
          "base_uri": "https://localhost:8080/"
        },
        "id": "xGLAO7pbDvrc",
        "outputId": "1880fb7d-1141-497d-bc7d-45b91140e10c"
      },
      "execution_count": 28,
      "outputs": [
        {
          "output_type": "stream",
          "name": "stdout",
          "text": [
            "(20, 15)\n"
          ]
        }
      ]
    },
    {
      "cell_type": "code",
      "source": [
        "#Q5 Write a program in Python to find the second highest number in an integer list.\n",
        "numbers = [10, 5, 8, 12, 3, 15, 6, 20]\n",
        "numbers.sort()\n",
        "a=numbers[-2]\n",
        "print(\"The second highest number of the list is\",a)\n"
      ],
      "metadata": {
        "colab": {
          "base_uri": "https://localhost:8080/"
        },
        "id": "pu0vHH8BQ4wX",
        "outputId": "31f2c2d8-81f2-4593-eee7-0df8373b087d"
      },
      "execution_count": 29,
      "outputs": [
        {
          "output_type": "stream",
          "name": "stdout",
          "text": [
            "The second highest number of the list is 15\n"
          ]
        }
      ]
    },
    {
      "cell_type": "code",
      "source": [
        "#Q6) Python program to sort characters in descending order.\n",
        "y=[16,9,5,18,6,14]\n",
        "print(y)\n",
        "y.sort()\n",
        "print(y)\n",
        "y.reverse()\n",
        "print(y)"
      ],
      "metadata": {
        "colab": {
          "base_uri": "https://localhost:8080/"
        },
        "id": "EiZH9pvGFFB9",
        "outputId": "061ed6ab-2714-456e-9ea2-142f4d7ea696"
      },
      "execution_count": 16,
      "outputs": [
        {
          "output_type": "stream",
          "name": "stdout",
          "text": [
            "[16, 9, 5, 18, 6, 14]\n",
            "[5, 6, 9, 14, 16, 18]\n",
            "[18, 16, 14, 9, 6, 5]\n"
          ]
        }
      ]
    },
    {
      "cell_type": "code",
      "source": [
        "#Q7) Python program to remove repeated characters from a string.\n",
        "str1=str(input(\"enter any string: \"))\n",
        "str2=\"\"\n",
        "for i in str1:\n",
        "  if i not in str2:\n",
        "    str2 += i\n",
        "print(str2)\n",
        "\n"
      ],
      "metadata": {
        "colab": {
          "base_uri": "https://localhost:8080/"
        },
        "id": "940vXUgaSaKN",
        "outputId": "9db0f9a3-c118-4f66-c0d1-776686473ec6"
      },
      "execution_count": 35,
      "outputs": [
        {
          "output_type": "stream",
          "name": "stdout",
          "text": [
            "enter any string: book\n",
            "bok\n"
          ]
        }
      ]
    },
    {
      "cell_type": "code",
      "source": [
        "#Q8 Python program to check if a given character is a consonants or vovels\n",
        "w=str(input(\"Enter any alphabet: \" ))\n",
        "if w==\"a\" or w==\"e\" or w==\"i\" or w==\"o\" or w==\"u\":\n",
        "  print(\"The Entered Alphbet is a vovel\")\n",
        "else:\n",
        "  print(\"The Entered Alphbet is a consonants\")\n"
      ],
      "metadata": {
        "id": "Qz6fryT-7wqG",
        "colab": {
          "base_uri": "https://localhost:8080/"
        },
        "outputId": "8045070a-2bfb-43e6-8da0-f65126257509"
      },
      "execution_count": 5,
      "outputs": [
        {
          "output_type": "stream",
          "name": "stdout",
          "text": [
            "Enter any alphabet: e\n",
            "The Entered Alphbet is a vovel\n"
          ]
        }
      ]
    },
    {
      "cell_type": "code",
      "source": [
        "#Q9) Python Program to calculate factorial.\n",
        "def factorial(n):\n",
        "    if n == 0:\n",
        "        return 1\n",
        "    else:\n",
        "        return n * factorial(n-1)\n",
        "\n",
        "# Test the function\n",
        "num = int(input(\"Enter a number: \"))\n",
        "\n",
        "if num < 0:\n",
        "    print(\"Factorial is not defined for negative numbers.\")\n",
        "elif num == 0:\n",
        "    print(\"Factorial of 0 is 1.\")\n",
        "else:\n",
        "    result = factorial(num)\n",
        "    print(\"Factorial of\", num, \"is\", result)\n",
        "\n"
      ],
      "metadata": {
        "colab": {
          "base_uri": "https://localhost:8080/"
        },
        "id": "bTg7GRQQ-x9u",
        "outputId": "4dc21669-eacd-4f1c-b570-5829ac4a555f"
      },
      "execution_count": 23,
      "outputs": [
        {
          "output_type": "stream",
          "name": "stdout",
          "text": [
            "Enter a number: 5\n",
            "Factorial of 5 is 120\n"
          ]
        }
      ]
    },
    {
      "cell_type": "code",
      "source": [
        "#Q10) Python Program to merge two lists.\n",
        "c=[10,5,60,9,18]\n",
        "d=[5,6,8,10,70]\n",
        "b=c+d\n",
        "b.sort()\n",
        "print(b)\n"
      ],
      "metadata": {
        "colab": {
          "base_uri": "https://localhost:8080/"
        },
        "id": "_-CUkKl5DSBO",
        "outputId": "06c6bfad-ede1-4ccf-e34a-61909248a622"
      },
      "execution_count": 32,
      "outputs": [
        {
          "output_type": "stream",
          "name": "stdout",
          "text": [
            "[5, 5, 6, 8, 9, 10, 10, 18, 60, 70]\n"
          ]
        }
      ]
    },
    {
      "cell_type": "code",
      "source": [],
      "metadata": {
        "id": "P1txcXKUTj-v"
      },
      "execution_count": null,
      "outputs": []
    }
  ],
  "metadata": {
    "colab": {
      "toc_visible": true,
      "provenance": []
    },
    "kernelspec": {
      "display_name": "Python 3",
      "name": "python3"
    }
  },
  "nbformat": 4,
  "nbformat_minor": 0
}