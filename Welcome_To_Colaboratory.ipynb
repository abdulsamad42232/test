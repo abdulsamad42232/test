{
  "cells": [
    {
      "cell_type": "code",
      "source": [
        "a = int(input(\"Enter any No:\" ))\n",
        "b = 300\n",
        "c = 200\n",
        "if ( a >= 400 ):\n",
        "   print(\"Value is:\", b, c)\n",
        "else:\n",
        "   print(\"NOT\")"
      ],
      "metadata": {
        "colab": {
          "base_uri": "https://localhost:8080/"
        },
        "id": "JxHqxn-wylZE",
        "outputId": "140dd4bd-0ca6-4e99-eb44-86cb87e576fd"
      },
      "execution_count": 11,
      "outputs": [
        {
          "output_type": "stream",
          "name": "stdout",
          "text": [
            "Enter any No:600\n",
            "Value is: 300 200\n"
          ]
        }
      ]
    },
    {
      "cell_type": "code",
      "source": [
        "number = eval(input(\"Enter an integer: \"))\n",
        "print(type(number))\n",
        "if number % 5 == 0:\n",
        "    print(\"HiFive\")\n",
        "else:\n",
        "    print(\"not\")"
      ],
      "metadata": {
        "colab": {
          "base_uri": "https://localhost:8080/"
        },
        "id": "2j6YEMh4zpRd",
        "outputId": "a04f31f5-b5f0-400c-e2e6-c5ce9b158461"
      },
      "execution_count": 17,
      "outputs": [
        {
          "output_type": "stream",
          "name": "stdout",
          "text": [
            "Enter an integer: 50.5\n",
            "<class 'float'>\n",
            "not\n"
          ]
        }
      ]
    },
    {
      "cell_type": "code",
      "source": [
        "expression = input(\"Enter a mathematical expression: \")\n",
        "result = eval(expression)\n",
        "print(\"Result:\", result)\n"
      ],
      "metadata": {
        "colab": {
          "base_uri": "https://localhost:8080/"
        },
        "id": "qt4AKIOK2A5T",
        "outputId": "7bc7f128-1aad-4245-e28e-34959fec4015"
      },
      "execution_count": 18,
      "outputs": [
        {
          "output_type": "stream",
          "name": "stdout",
          "text": [
            "Enter a mathematical expression: 10+5\n",
            "Result: 15\n"
          ]
        }
      ]
    },
    {
      "cell_type": "code",
      "source": [
        "     print(\"yyyy\")"
      ],
      "metadata": {
        "colab": {
          "base_uri": "https://localhost:8080/"
        },
        "id": "tFrK42Tl3emq",
        "outputId": "601747e4-64bc-4e91-b902-23668bdf0de6"
      },
      "execution_count": 19,
      "outputs": [
        {
          "output_type": "stream",
          "name": "stdout",
          "text": [
            "yyyy\n"
          ]
        }
      ]
    },
    {
      "cell_type": "code",
      "source": [
        "\n",
        "print(\"No answer\")"
      ],
      "metadata": {
        "colab": {
          "base_uri": "https://localhost:8080/"
        },
        "id": "xcvRc5Yw318D",
        "outputId": "b02865c4-55cc-4417-f7a7-354556939047"
      },
      "execution_count": 20,
      "outputs": [
        {
          "output_type": "stream",
          "name": "stdout",
          "text": [
            "No answer\n"
          ]
        }
      ]
    },
    {
      "cell_type": "code",
      "source": [
        "score=float(input(\"Enter your grades: \"))\n",
        "if score <= 60.0:\n",
        "    print(\"grade = 'D'\")\n",
        "elif score <= 70.0:\n",
        "    print(\"grade = 'C'\")\n",
        "elif score < 80.0:\n",
        "    print(\"grade = 'B'\")\n",
        "elif score >= 80.0:\n",
        "    print(\"grade = 'A'\")\n",
        "else:\n",
        "    print(\"grade = 'F'\")"
      ],
      "metadata": {
        "colab": {
          "base_uri": "https://localhost:8080/"
        },
        "id": "xDb3Q1W_3_nN",
        "outputId": "b75daad9-00f2-43e1-e683-2dd2b39e901e"
      },
      "execution_count": 29,
      "outputs": [
        {
          "output_type": "stream",
          "name": "stdout",
          "text": [
            "Enter your grades: 80\n",
            "grade = 'A'\n"
          ]
        }
      ]
    },
    {
      "cell_type": "code",
      "source": [
        "requested_topping = 'mushrooms'\n",
        "if requested_topping != 'anchovies':\n",
        "     print(\"Hold the anchovies!\")"
      ],
      "metadata": {
        "colab": {
          "base_uri": "https://localhost:8080/"
        },
        "id": "AIsNQlUe6wJy",
        "outputId": "2e90eead-8192-4c86-cca0-471a749869d0"
      },
      "execution_count": 31,
      "outputs": [
        {
          "output_type": "stream",
          "name": "stdout",
          "text": [
            "Hold the anchovies!\n"
          ]
        }
      ]
    },
    {
      "cell_type": "code",
      "source": [
        "num = -5\n",
        "if num >= 0:\n",
        "    print(\"Positive or Zero\")\n",
        "else:\n",
        "    print(\"Negative number\")"
      ],
      "metadata": {
        "colab": {
          "base_uri": "https://localhost:8080/"
        },
        "id": "ShJWkDEK8ejK",
        "outputId": "661b5f93-714c-4c3a-df60-056b6de324c2"
      },
      "execution_count": 33,
      "outputs": [
        {
          "output_type": "stream",
          "name": "stdout",
          "text": [
            "Negative number\n"
          ]
        }
      ]
    },
    {
      "cell_type": "code",
      "source": [
        "age = 15\n",
        "if age < 4:\n",
        "  price = 0\n",
        "elif age < 18:\n",
        "  price = 1500\n",
        "else:\n",
        "  price = 2000\n",
        "print(\"Your admission cost is Rs\" + str(price) + \".\")"
      ],
      "metadata": {
        "colab": {
          "base_uri": "https://localhost:8080/"
        },
        "id": "Kr0XHSBr9RJ5",
        "outputId": "7aab751a-88e1-4c1d-a909-63f0dd919987"
      },
      "execution_count": 37,
      "outputs": [
        {
          "output_type": "stream",
          "name": "stdout",
          "text": [
            "Your admission cost is Rs1500.\n"
          ]
        }
      ]
    },
    {
      "cell_type": "code",
      "source": [
        "number=int(input(\"Enter any integer:  \"))\n",
        "if number % 2 == 0:\n",
        "  print(\"the no. is even\")\n",
        "else:\n",
        "    print(\"the no. is odd\")"
      ],
      "metadata": {
        "colab": {
          "base_uri": "https://localhost:8080/"
        },
        "id": "KDZkXQ3E-SDZ",
        "outputId": "c2a26768-0205-4e4e-8c1a-b87db1c59425"
      },
      "execution_count": 42,
      "outputs": [
        {
          "output_type": "stream",
          "name": "stdout",
          "text": [
            "Enter any integer:  6\n",
            "the no. is even\n"
          ]
        }
      ]
    },
    {
      "cell_type": "code",
      "source": [
        "qualification=input(\"Enter your Qualification: \")\n",
        "experiance=int(input(\"Enter your years of services: \"))\n",
        "if experiance>=10 and qualification ==\"Masters\":\n",
        "     print(\"Salary: 150,000\")\n",
        "elif experiance>=10 and qualification ==\"Bachelors\":\n",
        "     print(\"Salary: 100,000\")   \n",
        "elif experiance<10 and qualification ==\"Masters\":\n",
        "     print(\"Salary: 100,000\")   \n",
        "elif experiance<10 and qualification ==\"Bachelors\":\n",
        "     print(\"Salary: 70,000\")  \n",
        "else: \n",
        "     print(\"Incorrect Data\") \n"
      ],
      "metadata": {
        "colab": {
          "base_uri": "https://localhost:8080/"
        },
        "id": "H_akGsPxABcp",
        "outputId": "89cfbf24-c8a5-41eb-cc67-da43ff98ae0a"
      },
      "execution_count": 51,
      "outputs": [
        {
          "output_type": "stream",
          "name": "stdout",
          "text": [
            "Enter your Qualification: Bachelors\n",
            "Enter your years of services: 2\n",
            "Salary: 70,000\n"
          ]
        }
      ]
    },
    {
      "cell_type": "code",
      "source": [],
      "metadata": {
        "id": "OrO8KQmSEXNY"
      },
      "execution_count": 50,
      "outputs": []
    }
  ],
  "metadata": {
    "colab": {
      "name": "Welcome To Colaboratory",
      "provenance": []
    },
    "kernelspec": {
      "display_name": "Python 3",
      "name": "python3"
    }
  },
  "nbformat": 4,
  "nbformat_minor": 0
}