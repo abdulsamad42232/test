{
  "nbformat": 4,
  "nbformat_minor": 0,
  "metadata": {
    "colab": {
      "provenance": [],
      "toc_visible": true
    },
    "kernelspec": {
      "name": "python3",
      "display_name": "Python 3"
    },
    "language_info": {
      "name": "python"
    }
  },
  "cells": [
    {
      "cell_type": "code",
      "source": [
        "age=int(input(\"Enter Your age: \"))\n",
        "nationality=(\"Enter Your Nationality\")\n",
        "if age>=18 and nationality==\"Pakistani\":\n",
        "  print(\"Okay\")\n",
        "else:\n",
        "  print(\"Not Okay\")  \n"
      ],
      "metadata": {
        "id": "143ps4VHVWVu"
      },
      "execution_count": null,
      "outputs": []
    },
    {
      "cell_type": "code",
      "execution_count": null,
      "metadata": {
        "colab": {
          "base_uri": "https://localhost:8080/"
        },
        "id": "iEynYuuNLHJ7",
        "outputId": "40750bc4-5039-446e-e543-78f50837be85"
      },
      "outputs": [
        {
          "output_type": "stream",
          "name": "stdout",
          "text": [
            "Enter Age: 15\n",
            "The person is Teenager\n"
          ]
        }
      ],
      "source": [
        "age=int(input(\"Enter Age: \"))\n",
        "if age<2: \n",
        "   print(\"The person is baby\")\n",
        "elif age>=2 and age<4: \n",
        "   print(\"The person is Toddler\")\n",
        "elif age>=4 and age<13: \n",
        "   print(\"The person is kid\")\n",
        "elif age>=13 and age<20: \n",
        "   print(\"The person is Teenager\")\n",
        "elif age>=20 and age<60: \n",
        "   print(\"The person is Adult\")\n",
        "else:\n",
        "   print(\"The person is old\")"
      ]
    },
    {
      "cell_type": "code",
      "source": [
        "qualification=input(\"Enter your Qualification: \")\n",
        "experiance=int(input(\"Enter your years of services: \"))\n",
        "if experiance>=10 and qualification ==\"Masters\":\n",
        "     print(\"Salary: 150,000\")\n",
        "elif experiance>=10 and qualification ==\"Bachelors\":\n",
        "     print(\"Salary: 100,000\")   \n",
        "elif experiance<10 and qualification ==\"Masters\":\n",
        "     print(\"Salary: 100,000\")   \n",
        "elif experiance<10 and qualification ==\"Bachelors\":\n",
        "     print(\"Salary: 70,000\")  \n",
        "else: \n",
        "     print(\"Incorrect Data\") \n"
      ],
      "metadata": {
        "colab": {
          "base_uri": "https://localhost:8080/"
        },
        "id": "H_akGsPxABcp",
        "outputId": "c263f55c-9a34-4790-9f63-12bdaaf86203"
      },
      "execution_count": null,
      "outputs": [
        {
          "output_type": "stream",
          "name": "stdout",
          "text": [
            "Enter your Qualification: Bachelors\n",
            "Enter your years of services: 15\n",
            "Salary: 100,000\n"
          ]
        }
      ]
    },
    {
      "cell_type": "code",
      "source": [
        "number=int(input(\"Enter any integer:  \"))\n",
        "if number % 2 == 0:\n",
        "  print(\"the no. is even\")\n",
        "else:\n",
        "    print(\"the no. is odd\")"
      ],
      "metadata": {
        "colab": {
          "base_uri": "https://localhost:8080/"
        },
        "id": "KDZkXQ3E-SDZ",
        "outputId": "c2a26768-0205-4e4e-8c1a-b87db1c59425"
      },
      "execution_count": null,
      "outputs": [
        {
          "output_type": "stream",
          "name": "stdout",
          "text": [
            "Enter any integer:  6\n",
            "the no. is even\n"
          ]
        }
      ]
    },
    {
      "cell_type": "code",
      "source": [
        "age = 15\n",
        "if age < 4:\n",
        "  price = 0\n",
        "elif age < 18:\n",
        "  price = 1500\n",
        "else:\n",
        "  price = 2000\n",
        "print(\"Your admission cost is Rs\" + str(price) + \".\")"
      ],
      "metadata": {
        "colab": {
          "base_uri": "https://localhost:8080/"
        },
        "id": "Kr0XHSBr9RJ5",
        "outputId": "7aab751a-88e1-4c1d-a909-63f0dd919987"
      },
      "execution_count": null,
      "outputs": [
        {
          "output_type": "stream",
          "name": "stdout",
          "text": [
            "Your admission cost is Rs1500.\n"
          ]
        }
      ]
    },
    {
      "cell_type": "code",
      "source": [
        "num = -5\n",
        "if num >= 0:\n",
        "    print(\"Positive or Zero\")\n",
        "else:\n",
        "    print(\"Negative number\")"
      ],
      "metadata": {
        "colab": {
          "base_uri": "https://localhost:8080/"
        },
        "id": "ShJWkDEK8ejK",
        "outputId": "661b5f93-714c-4c3a-df60-056b6de324c2"
      },
      "execution_count": null,
      "outputs": [
        {
          "output_type": "stream",
          "name": "stdout",
          "text": [
            "Negative number\n"
          ]
        }
      ]
    },
    {
      "cell_type": "code",
      "source": [
        "requested_topping = 'mushrooms'\n",
        "if requested_topping != 'anchovies':\n",
        "     print(\"Hold the anchovies!\")"
      ],
      "metadata": {
        "colab": {
          "base_uri": "https://localhost:8080/"
        },
        "id": "AIsNQlUe6wJy",
        "outputId": "2e90eead-8192-4c86-cca0-471a749869d0"
      },
      "execution_count": null,
      "outputs": [
        {
          "output_type": "stream",
          "name": "stdout",
          "text": [
            "Hold the anchovies!\n"
          ]
        }
      ]
    },
    {
      "cell_type": "code",
      "source": [
        "score=float(input(\"Enter your grades: \"))\n",
        "if score <= 60.0:\n",
        "    print(\"grade = 'D'\")\n",
        "elif score <= 70.0:\n",
        "    print(\"grade = 'C'\")\n",
        "elif score < 80.0:\n",
        "    print(\"grade = 'B'\")\n",
        "elif score >= 80.0:\n",
        "    print(\"grade = 'A'\")\n",
        "else:\n",
        "    print(\"grade = 'F'\")"
      ],
      "metadata": {
        "colab": {
          "base_uri": "https://localhost:8080/"
        },
        "id": "xDb3Q1W_3_nN",
        "outputId": "b75daad9-00f2-43e1-e683-2dd2b39e901e"
      },
      "execution_count": null,
      "outputs": [
        {
          "output_type": "stream",
          "name": "stdout",
          "text": [
            "Enter your grades: 80\n",
            "grade = 'A'\n"
          ]
        }
      ]
    },
    {
      "cell_type": "code",
      "source": [
        "expression = input(\"Enter a mathematical expression: \")\n",
        "result = eval(expression)\n",
        "print(\"Result:\", result)\n"
      ],
      "metadata": {
        "colab": {
          "base_uri": "https://localhost:8080/"
        },
        "id": "qt4AKIOK2A5T",
        "outputId": "7bc7f128-1aad-4245-e28e-34959fec4015"
      },
      "execution_count": null,
      "outputs": [
        {
          "output_type": "stream",
          "name": "stdout",
          "text": [
            "Enter a mathematical expression: 10+5\n",
            "Result: 15\n"
          ]
        }
      ]
    },
    {
      "cell_type": "code",
      "source": [
        "number = eval(input(\"Enter an integer: \"))\n",
        "print(type(number))\n",
        "if number % 5 == 0:\n",
        "    print(\"HiFive\")\n",
        "else:\n",
        "    print(\"not\")"
      ],
      "metadata": {
        "colab": {
          "base_uri": "https://localhost:8080/"
        },
        "id": "2j6YEMh4zpRd",
        "outputId": "a04f31f5-b5f0-400c-e2e6-c5ce9b158461"
      },
      "execution_count": null,
      "outputs": [
        {
          "output_type": "stream",
          "name": "stdout",
          "text": [
            "Enter an integer: 50.5\n",
            "<class 'float'>\n",
            "not\n"
          ]
        }
      ]
    },
    {
      "cell_type": "code",
      "source": [
        "a = int(input(\"Enter any No:\" ))\n",
        "b = 300\n",
        "c = 200\n",
        "if ( a >= 400 ):\n",
        "   print(\"Value is:\", b, c)\n",
        "else:\n",
        "   print(\"NOT\")"
      ],
      "metadata": {
        "colab": {
          "base_uri": "https://localhost:8080/"
        },
        "id": "JxHqxn-wylZE",
        "outputId": "140dd4bd-0ca6-4e99-eb44-86cb87e576fd"
      },
      "execution_count": null,
      "outputs": [
        {
          "output_type": "stream",
          "name": "stdout",
          "text": [
            "Enter any No:600\n",
            "Value is: 300 200\n"
          ]
        }
      ]
    }
  ]
}